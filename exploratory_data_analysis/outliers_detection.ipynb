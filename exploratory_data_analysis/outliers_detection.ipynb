{
 "cells": [
  {
   "cell_type": "markdown",
   "metadata": {
    "executionInfo": {
     "elapsed": 14,
     "status": "ok",
     "timestamp": 1678440306724,
     "user": {
      "displayName": "Roberto Bonilla I.",
      "userId": "14956053022957445899"
     },
     "user_tz": -60
    },
    "id": "pdlNBmHQdGls"
   },
   "source": [
    "# Detección de atípicos\n",
    "\n",
    "## Importar librerías"
   ]
  },
  {
   "cell_type": "code",
   "execution_count": 8,
   "metadata": {
    "executionInfo": {
     "elapsed": 1741,
     "status": "ok",
     "timestamp": 1678440308452,
     "user": {
      "displayName": "Roberto Bonilla I.",
      "userId": "14956053022957445899"
     },
     "user_tz": -60
    },
    "id": "3S_gHjxvhex6"
   },
   "outputs": [],
   "source": [
    "# Downloaded\n",
    "import pandas as pd\n",
    "import import_ipynb\n",
    "import seaborn as sns\n",
    "import numpy as np\n",
    "from matplotlib import pyplot as plt"
   ]
  },
  {
   "cell_type": "code",
   "execution_count": 9,
   "metadata": {
    "colab": {
     "base_uri": "https://localhost:8080/"
    },
    "executionInfo": {
     "elapsed": 8567,
     "status": "ok",
     "timestamp": 1678440317011,
     "user": {
      "displayName": "Roberto Bonilla I.",
      "userId": "14956053022957445899"
     },
     "user_tz": -60
    },
    "id": "ZT75iQ0PeVrh",
    "outputId": "b5a9e7dd-ae63-4783-e086-82b1e2a055e5"
   },
   "outputs": [
    {
     "name": "stdout",
     "output_type": "stream",
     "text": [
      "importing Jupyter notebook from mylib.ipynb\n"
     ]
    }
   ],
   "source": [
    "# Self Made Libs\n",
    "import mylib"
   ]
  },
  {
   "cell_type": "markdown",
   "metadata": {},
   "source": [
    "## Lectura de datos"
   ]
  },
  {
   "cell_type": "code",
   "execution_count": 10,
   "metadata": {
    "colab": {
     "base_uri": "https://localhost:8080/",
     "height": 542
    },
    "executionInfo": {
     "elapsed": 52329,
     "status": "ok",
     "timestamp": 1678440369293,
     "user": {
      "displayName": "Roberto Bonilla I.",
      "userId": "14956053022957445899"
     },
     "user_tz": -60
    },
    "id": "i3XLGc6szpzJ",
    "outputId": "380d8876-4ecb-44f8-f40a-5b40264aeff7"
   },
   "outputs": [
    {
     "data": {
      "text/html": [
       "\n",
       "  <div id=\"df-51c45fd7-e0d7-4481-a8a8-941d23aa06af\">\n",
       "    <div class=\"colab-df-container\">\n",
       "      <div>\n",
       "<style scoped>\n",
       "    .dataframe tbody tr th:only-of-type {\n",
       "        vertical-align: middle;\n",
       "    }\n",
       "\n",
       "    .dataframe tbody tr th {\n",
       "        vertical-align: top;\n",
       "    }\n",
       "\n",
       "    .dataframe thead th {\n",
       "        text-align: right;\n",
       "    }\n",
       "</style>\n",
       "<table border=\"1\" class=\"dataframe\">\n",
       "  <thead>\n",
       "    <tr style=\"text-align: right;\">\n",
       "      <th></th>\n",
       "      <th>CLIENTE_ID</th>\n",
       "      <th>PRODUCTO_ID</th>\n",
       "      <th>ANIO</th>\n",
       "      <th>SEMANA</th>\n",
       "      <th>CF</th>\n",
       "      <th>FRECUENCIA</th>\n",
       "      <th>RECENCY</th>\n",
       "      <th>DURATION_CLIENT</th>\n",
       "      <th>MEAN_CF</th>\n",
       "      <th>MEDIAN_CF</th>\n",
       "      <th>...</th>\n",
       "      <th>CANAL</th>\n",
       "      <th>SUBCANAL</th>\n",
       "      <th>CATEGORIA</th>\n",
       "      <th>TIPO_CONSUMO</th>\n",
       "      <th>RETORNABILIDAD</th>\n",
       "      <th>MARCA</th>\n",
       "      <th>SABOR</th>\n",
       "      <th>UNIDAD_EMPAQUE</th>\n",
       "      <th>TAMANIO</th>\n",
       "      <th>EMPAQUE</th>\n",
       "    </tr>\n",
       "  </thead>\n",
       "  <tbody>\n",
       "    <tr>\n",
       "      <th>0</th>\n",
       "      <td>0100000204</td>\n",
       "      <td>000000000000000353</td>\n",
       "      <td>2022</td>\n",
       "      <td>22</td>\n",
       "      <td>2.0000</td>\n",
       "      <td>2</td>\n",
       "      <td>17</td>\n",
       "      <td>180</td>\n",
       "      <td>1.00000000</td>\n",
       "      <td>1.0000</td>\n",
       "      <td>...</td>\n",
       "      <td>COMERCIO DE ABARROTES</td>\n",
       "      <td>MINI SUPER INDEPENDIENTE</td>\n",
       "      <td>SABORES</td>\n",
       "      <td>PERSONALES (SS)</td>\n",
       "      <td>NR</td>\n",
       "      <td>SPRITE</td>\n",
       "      <td>LIMA-LIMON</td>\n",
       "      <td>12</td>\n",
       "      <td>20.3 Onz / 600 ML=CC</td>\n",
       "      <td>PET</td>\n",
       "    </tr>\n",
       "    <tr>\n",
       "      <th>1</th>\n",
       "      <td>0100000204</td>\n",
       "      <td>000000000000000360</td>\n",
       "      <td>2022</td>\n",
       "      <td>22</td>\n",
       "      <td>13.0000</td>\n",
       "      <td>10</td>\n",
       "      <td>3</td>\n",
       "      <td>180</td>\n",
       "      <td>1.30000000</td>\n",
       "      <td>1.0000</td>\n",
       "      <td>...</td>\n",
       "      <td>COMERCIO DE ABARROTES</td>\n",
       "      <td>MINI SUPER INDEPENDIENTE</td>\n",
       "      <td>COLAS</td>\n",
       "      <td>PERSONALES (SS)</td>\n",
       "      <td>NR</td>\n",
       "      <td>COCA-COLA</td>\n",
       "      <td>COLA</td>\n",
       "      <td>24</td>\n",
       "      <td>20.3 Onz / 600 ML=CC</td>\n",
       "      <td>PET</td>\n",
       "    </tr>\n",
       "    <tr>\n",
       "      <th>2</th>\n",
       "      <td>0100000204</td>\n",
       "      <td>000000000000000382</td>\n",
       "      <td>2022</td>\n",
       "      <td>22</td>\n",
       "      <td>6.0000</td>\n",
       "      <td>5</td>\n",
       "      <td>5</td>\n",
       "      <td>180</td>\n",
       "      <td>1.20000000</td>\n",
       "      <td>1.0000</td>\n",
       "      <td>...</td>\n",
       "      <td>COMERCIO DE ABARROTES</td>\n",
       "      <td>MINI SUPER INDEPENDIENTE</td>\n",
       "      <td>SABORES</td>\n",
       "      <td>FAMILIARES (MS)</td>\n",
       "      <td>NR</td>\n",
       "      <td>MUNDET</td>\n",
       "      <td>MANZANA</td>\n",
       "      <td>8</td>\n",
       "      <td>67.6 Onz / 2 LITROS</td>\n",
       "      <td>PET</td>\n",
       "    </tr>\n",
       "    <tr>\n",
       "      <th>3</th>\n",
       "      <td>0100000204</td>\n",
       "      <td>000000000000000386</td>\n",
       "      <td>2022</td>\n",
       "      <td>22</td>\n",
       "      <td>6.0000</td>\n",
       "      <td>5</td>\n",
       "      <td>12</td>\n",
       "      <td>180</td>\n",
       "      <td>1.20000000</td>\n",
       "      <td>1.0000</td>\n",
       "      <td>...</td>\n",
       "      <td>COMERCIO DE ABARROTES</td>\n",
       "      <td>MINI SUPER INDEPENDIENTE</td>\n",
       "      <td>SABORES</td>\n",
       "      <td>PERSONALES (SS)</td>\n",
       "      <td>NR</td>\n",
       "      <td>MUNDET</td>\n",
       "      <td>MANZANA</td>\n",
       "      <td>12</td>\n",
       "      <td>20.3 Onz / 600 ML=CC</td>\n",
       "      <td>PET</td>\n",
       "    </tr>\n",
       "    <tr>\n",
       "      <th>4</th>\n",
       "      <td>0100000204</td>\n",
       "      <td>000000000000000389</td>\n",
       "      <td>2022</td>\n",
       "      <td>22</td>\n",
       "      <td>11.0000</td>\n",
       "      <td>11</td>\n",
       "      <td>3</td>\n",
       "      <td>180</td>\n",
       "      <td>1.00000000</td>\n",
       "      <td>1.0000</td>\n",
       "      <td>...</td>\n",
       "      <td>COMERCIO DE ABARROTES</td>\n",
       "      <td>MINI SUPER INDEPENDIENTE</td>\n",
       "      <td>COLAS</td>\n",
       "      <td>PERSONALES (SS)</td>\n",
       "      <td>NR</td>\n",
       "      <td>COCA-COLA</td>\n",
       "      <td>COLA</td>\n",
       "      <td>12</td>\n",
       "      <td>20.3 Onz / 600 ML=CC</td>\n",
       "      <td>PET</td>\n",
       "    </tr>\n",
       "  </tbody>\n",
       "</table>\n",
       "<p>5 rows × 27 columns</p>\n",
       "</div>\n",
       "      <button class=\"colab-df-convert\" onclick=\"convertToInteractive('df-51c45fd7-e0d7-4481-a8a8-941d23aa06af')\"\n",
       "              title=\"Convert this dataframe to an interactive table.\"\n",
       "              style=\"display:none;\">\n",
       "        \n",
       "  <svg xmlns=\"http://www.w3.org/2000/svg\" height=\"24px\"viewBox=\"0 0 24 24\"\n",
       "       width=\"24px\">\n",
       "    <path d=\"M0 0h24v24H0V0z\" fill=\"none\"/>\n",
       "    <path d=\"M18.56 5.44l.94 2.06.94-2.06 2.06-.94-2.06-.94-.94-2.06-.94 2.06-2.06.94zm-11 1L8.5 8.5l.94-2.06 2.06-.94-2.06-.94L8.5 2.5l-.94 2.06-2.06.94zm10 10l.94 2.06.94-2.06 2.06-.94-2.06-.94-.94-2.06-.94 2.06-2.06.94z\"/><path d=\"M17.41 7.96l-1.37-1.37c-.4-.4-.92-.59-1.43-.59-.52 0-1.04.2-1.43.59L10.3 9.45l-7.72 7.72c-.78.78-.78 2.05 0 2.83L4 21.41c.39.39.9.59 1.41.59.51 0 1.02-.2 1.41-.59l7.78-7.78 2.81-2.81c.8-.78.8-2.07 0-2.86zM5.41 20L4 18.59l7.72-7.72 1.47 1.35L5.41 20z\"/>\n",
       "  </svg>\n",
       "      </button>\n",
       "      \n",
       "  <style>\n",
       "    .colab-df-container {\n",
       "      display:flex;\n",
       "      flex-wrap:wrap;\n",
       "      gap: 12px;\n",
       "    }\n",
       "\n",
       "    .colab-df-convert {\n",
       "      background-color: #E8F0FE;\n",
       "      border: none;\n",
       "      border-radius: 50%;\n",
       "      cursor: pointer;\n",
       "      display: none;\n",
       "      fill: #1967D2;\n",
       "      height: 32px;\n",
       "      padding: 0 0 0 0;\n",
       "      width: 32px;\n",
       "    }\n",
       "\n",
       "    .colab-df-convert:hover {\n",
       "      background-color: #E2EBFA;\n",
       "      box-shadow: 0px 1px 2px rgba(60, 64, 67, 0.3), 0px 1px 3px 1px rgba(60, 64, 67, 0.15);\n",
       "      fill: #174EA6;\n",
       "    }\n",
       "\n",
       "    [theme=dark] .colab-df-convert {\n",
       "      background-color: #3B4455;\n",
       "      fill: #D2E3FC;\n",
       "    }\n",
       "\n",
       "    [theme=dark] .colab-df-convert:hover {\n",
       "      background-color: #434B5C;\n",
       "      box-shadow: 0px 1px 3px 1px rgba(0, 0, 0, 0.15);\n",
       "      filter: drop-shadow(0px 1px 2px rgba(0, 0, 0, 0.3));\n",
       "      fill: #FFFFFF;\n",
       "    }\n",
       "  </style>\n",
       "\n",
       "      <script>\n",
       "        const buttonEl =\n",
       "          document.querySelector('#df-51c45fd7-e0d7-4481-a8a8-941d23aa06af button.colab-df-convert');\n",
       "        buttonEl.style.display =\n",
       "          google.colab.kernel.accessAllowed ? 'block' : 'none';\n",
       "\n",
       "        async function convertToInteractive(key) {\n",
       "          const element = document.querySelector('#df-51c45fd7-e0d7-4481-a8a8-941d23aa06af');\n",
       "          const dataTable =\n",
       "            await google.colab.kernel.invokeFunction('convertToInteractive',\n",
       "                                                     [key], {});\n",
       "          if (!dataTable) return;\n",
       "\n",
       "          const docLinkHtml = 'Like what you see? Visit the ' +\n",
       "            '<a target=\"_blank\" href=https://colab.research.google.com/notebooks/data_table.ipynb>data table notebook</a>'\n",
       "            + ' to learn more about interactive tables.';\n",
       "          element.innerHTML = '';\n",
       "          dataTable['output_type'] = 'display_data';\n",
       "          await google.colab.output.renderOutput(dataTable, element);\n",
       "          const docLink = document.createElement('div');\n",
       "          docLink.innerHTML = docLinkHtml;\n",
       "          element.appendChild(docLink);\n",
       "        }\n",
       "      </script>\n",
       "    </div>\n",
       "  </div>\n",
       "  "
      ],
      "text/plain": [
       "   CLIENTE_ID         PRODUCTO_ID  ANIO  SEMANA       CF  FRECUENCIA  RECENCY  \\\n",
       "0  0100000204  000000000000000353  2022      22   2.0000           2       17   \n",
       "1  0100000204  000000000000000360  2022      22  13.0000          10        3   \n",
       "2  0100000204  000000000000000382  2022      22   6.0000           5        5   \n",
       "3  0100000204  000000000000000386  2022      22   6.0000           5       12   \n",
       "4  0100000204  000000000000000389  2022      22  11.0000          11        3   \n",
       "\n",
       "   DURATION_CLIENT     MEAN_CF MEDIAN_CF  ...                  CANAL  \\\n",
       "0              180  1.00000000    1.0000  ...  COMERCIO DE ABARROTES   \n",
       "1              180  1.30000000    1.0000  ...  COMERCIO DE ABARROTES   \n",
       "2              180  1.20000000    1.0000  ...  COMERCIO DE ABARROTES   \n",
       "3              180  1.20000000    1.0000  ...  COMERCIO DE ABARROTES   \n",
       "4              180  1.00000000    1.0000  ...  COMERCIO DE ABARROTES   \n",
       "\n",
       "                   SUBCANAL CATEGORIA     TIPO_CONSUMO RETORNABILIDAD  \\\n",
       "0  MINI SUPER INDEPENDIENTE   SABORES  PERSONALES (SS)             NR   \n",
       "1  MINI SUPER INDEPENDIENTE     COLAS  PERSONALES (SS)             NR   \n",
       "2  MINI SUPER INDEPENDIENTE   SABORES  FAMILIARES (MS)             NR   \n",
       "3  MINI SUPER INDEPENDIENTE   SABORES  PERSONALES (SS)             NR   \n",
       "4  MINI SUPER INDEPENDIENTE     COLAS  PERSONALES (SS)             NR   \n",
       "\n",
       "       MARCA       SABOR UNIDAD_EMPAQUE               TAMANIO EMPAQUE  \n",
       "0     SPRITE  LIMA-LIMON             12  20.3 Onz / 600 ML=CC     PET  \n",
       "1  COCA-COLA        COLA             24  20.3 Onz / 600 ML=CC     PET  \n",
       "2     MUNDET     MANZANA              8   67.6 Onz / 2 LITROS     PET  \n",
       "3     MUNDET     MANZANA             12  20.3 Onz / 600 ML=CC     PET  \n",
       "4  COCA-COLA        COLA             12  20.3 Onz / 600 ML=CC     PET  \n",
       "\n",
       "[5 rows x 27 columns]"
      ]
     },
     "execution_count": 10,
     "metadata": {},
     "output_type": "execute_result"
    }
   ],
   "source": [
    "df_parquet = mylib.read_parquet_azure(\"datamodel/fact_client_sales_model.parquet/part-00000-tid-6772648655752891251-0549fc5e-1457-4fb9-ac79-bd0a78dc9668-2105-1-c000.snappy.parquet\")\n",
    "df_parquet.head(5)"
   ]
  },
  {
   "cell_type": "code",
   "execution_count": 11,
   "metadata": {
    "executionInfo": {
     "elapsed": 1114,
     "status": "ok",
     "timestamp": 1678440370393,
     "user": {
      "displayName": "Roberto Bonilla I.",
      "userId": "14956053022957445899"
     },
     "user_tz": -60
    },
    "id": "8_dRSU3Fidl2"
   },
   "outputs": [],
   "source": [
    "df_parquet_sample = df_parquet.sample(100000) # Muestra de datos"
   ]
  },
  {
   "cell_type": "markdown",
   "metadata": {},
   "source": [
    "## Gráficos de histograma y densidad de CF"
   ]
  },
  {
   "cell_type": "code",
   "execution_count": 12,
   "metadata": {
    "colab": {
     "base_uri": "https://localhost:8080/",
     "height": 574
    },
    "executionInfo": {
     "elapsed": 7163,
     "status": "ok",
     "timestamp": 1678440377551,
     "user": {
      "displayName": "Roberto Bonilla I.",
      "userId": "14956053022957445899"
     },
     "user_tz": -60
    },
    "id": "6V7Jn9MXjS-g",
    "outputId": "7f2e2bc3-19a6-4f82-cb94-e95187beb4de"
   },
   "outputs": [
    {
     "name": "stderr",
     "output_type": "stream",
     "text": [
      "/usr/local/lib/python3.9/dist-packages/seaborn/distributions.py:2619: FutureWarning: `distplot` is a deprecated function and will be removed in a future version. Please adapt your code to use either `displot` (a figure-level function with similar flexibility) or `histplot` (an axes-level function for histograms).\n",
      "  warnings.warn(msg, FutureWarning)\n"
     ]
    },
    {
     "data": {
      "image/png": "[encoded data removed]",
      "text/plain": [
       "<Figure size 1080x576 with 1 Axes>"
      ]
     },
     "metadata": {},
     "output_type": "display_data"
    }
   ],
   "source": [
    "sns.set_theme()\n",
    "plt.figure(figsize=(15,8));\n",
    "ax = sns.distplot(df_parquet_sample['CF'], hist=True, kde=True, \n",
    "             bins=int(200/5), color = 'darkblue', \n",
    "             hist_kws={'edgecolor':'black'},\n",
    "             kde_kws={'linewidth': 4});\n",
    "ax.set(xlabel='Cajas Físicas')\n",
    "ax.set(ylabel='Densidad')\n",
    "ax.set_title(\"Compras Acumuladas en 7 Semanas de Venta\", fontsize=14);"
   ]
  },
  {
   "cell_type": "code",
   "execution_count": 13,
   "metadata": {
    "colab": {
     "base_uri": "https://localhost:8080/",
     "height": 577
    },
    "executionInfo": {
     "elapsed": 7568,
     "status": "ok",
     "timestamp": 1678440385106,
     "user": {
      "displayName": "Roberto Bonilla I.",
      "userId": "14956053022957445899"
     },
     "user_tz": -60
    },
    "id": "pLpy3ZYTkT46",
    "outputId": "dd790078-2362-4df9-a3a1-0b1ef41e464e"
   },
   "outputs": [
    {
     "name": "stderr",
     "output_type": "stream",
     "text": [
      "/usr/local/lib/python3.9/dist-packages/seaborn/distributions.py:2619: FutureWarning: `distplot` is a deprecated function and will be removed in a future version. Please adapt your code to use either `displot` (a figure-level function with similar flexibility) or `histplot` (an axes-level function for histograms).\n",
      "  warnings.warn(msg, FutureWarning)\n"
     ]
    },
    {
     "data": {
      "image/png": "[encoded data removed]",
      "text/plain": [
       "<Figure size 1080x576 with 1 Axes>"
      ]
     },
     "metadata": {},
     "output_type": "display_data"
    }
   ],
   "source": [
    "# Density Plot and Histogram of sum CF\n",
    "sns.set_theme()\n",
    "plt.figure(figsize=(15,8));\n",
    "ax = sns.distplot(df_parquet_sample['LAST_CF'], hist=True, kde=True, \n",
    "             bins=int(200/5), color = 'darkblue', \n",
    "             hist_kws={'edgecolor':'black'},\n",
    "             kde_kws={'linewidth': 4});\n",
    "ax.set(xlabel='Cajas Físicas')\n",
    "ax.set(ylabel='Densidad')\n",
    "ax.set_title(\"Cajas Físicas en Última Semana de Venta\", fontsize=14);"
   ]
  },
  {
   "cell_type": "code",
   "execution_count": 14,
   "metadata": {
    "colab": {
     "base_uri": "https://localhost:8080/"
    },
    "executionInfo": {
     "elapsed": 23289,
     "status": "ok",
     "timestamp": 1678440408386,
     "user": {
      "displayName": "Roberto Bonilla I.",
      "userId": "14956053022957445899"
     },
     "user_tz": -60
    },
    "id": "D5RNGYX6mEvW",
    "outputId": "c1f6cf8d-7cb6-429c-d9d9-45a93e3d3a5f"
   },
   "outputs": [
    {
     "name": "stdout",
     "output_type": "stream",
     "text": [
      "Sesgo última compra (CF): 125.68595905092101\n",
      "Sesgo acumulado de compra (CF): 155.23355316448792\n",
      "Kurtosis última compra (CF): 31397.439954135512\n",
      "Kurtosis acumulado de compra (CF): 32099.238451305737\n"
     ]
    }
   ],
   "source": [
    "print(\"Sesgo última compra (CF): \" + str(df_parquet['LAST_CF'].skew()))\n",
    "print(\"Sesgo acumulado de compra (CF): \" +str(df_parquet['CF'].skew()))\n",
    "print(\"Kurtosis última compra (CF): \" +str(df_parquet['LAST_CF'].kurtosis()))\n",
    "print(\"Kurtosis acumulado de compra (CF): \" +str(df_parquet['CF'].kurtosis()))"
   ]
  },
  {
   "cell_type": "markdown",
   "metadata": {},
   "source": [
    "## Resultados en Z-score"
   ]
  },
  {
   "cell_type": "code",
   "execution_count": 15,
   "metadata": {
    "colab": {
     "base_uri": "https://localhost:8080/"
    },
    "executionInfo": {
     "elapsed": 2257,
     "status": "ok",
     "timestamp": 1678440410816,
     "user": {
      "displayName": "Roberto Bonilla I.",
      "userId": "14956053022957445899"
     },
     "user_tz": -60
    },
    "id": "hWT6EicEpgzq",
    "outputId": "292ba64a-2d56-46cd-f9ee-a1a8a8179c15"
   },
   "outputs": [
    {
     "name": "stdout",
     "output_type": "stream",
     "text": [
      "Cuenta última compra outliers Z-score (CF): 64396\n",
      "Total registros última compra (CF): 8912635\n",
      "Porcentaje de Outliers por Z-score Cuenta: 0.7225248201009017\n",
      "Porcentaje de Outliers por Z-score Suma (CF): 9.070060800566583\n",
      "Upper Limit (CF): 9.945724329579207\n"
     ]
    }
   ],
   "source": [
    "# Z Score Outlier Detection\n",
    "df_parquet['LAST_CF'] = df_parquet['LAST_CF'].astype(float)\n",
    "upper_limit = df_parquet['LAST_CF'].mean() + 3*df_parquet['LAST_CF'].std()\n",
    "df_parquet['LAST_CF_OUTLIERS'] = np.where(df_parquet['LAST_CF']>upper_limit,1,0)\n",
    "print(\"Cuenta última compra outliers Z-score (CF): \"+str(df_parquet['LAST_CF_OUTLIERS'].sum()))\n",
    "print(\"Total registros última compra (CF): \"+str(df_parquet['LAST_CF_OUTLIERS'].count()))\n",
    "print(\"Porcentaje de Outliers por Z-score Cuenta: \"+str(100* df_parquet['LAST_CF_OUTLIERS'].sum()/df_parquet['LAST_CF_OUTLIERS'].count()))\n",
    "print(\"Porcentaje de Outliers por Z-score Suma (CF): \"+str(100* df_parquet.loc[df_parquet['LAST_CF_OUTLIERS'] == 1]['LAST_CF'].sum()/df_parquet['LAST_CF'].sum()))\n",
    "print(\"Upper Limit (CF): \"+ str(upper_limit))"
   ]
  },
  {
   "cell_type": "code",
   "execution_count": 16,
   "metadata": {
    "colab": {
     "base_uri": "https://localhost:8080/"
    },
    "executionInfo": {
     "elapsed": 6306,
     "status": "ok",
     "timestamp": 1678440418941,
     "user": {
      "displayName": "Roberto Bonilla I.",
      "userId": "14956053022957445899"
     },
     "user_tz": -60
    },
    "id": "HGCndTVkxZWh",
    "outputId": "45bd224b-9e82-455c-ecb2-7cfe8619c229"
   },
   "outputs": [
    {
     "name": "stdout",
     "output_type": "stream",
     "text": [
      "Cuenta última compra outliers Z-score (CF): 18179\n",
      "Total registros última compra (CF): 8912635\n",
      "Porcentaje de Outliers por Z-score Cuenta: 0.20396885993872743\n",
      "Porcentaje de Outliers por Z-score Suma (CF): 7.534965174720983\n",
      "Upper Limit (CF): 65.06088060878334\n"
     ]
    }
   ],
   "source": [
    "# Z Score Outlier Detection\n",
    "df_parquet['CF'] = df_parquet['CF'].astype(float)\n",
    "upper_limit = df_parquet['CF'].mean() + 3*df_parquet['CF'].std()\n",
    "df_parquet['CF_Z_OUTLIERS'] = np.where(df_parquet['CF']>upper_limit,1,0)\n",
    "print(\"Cuenta última compra outliers Z-score (CF): \"+str(df_parquet['CF_Z_OUTLIERS'].sum()))\n",
    "print(\"Total registros última compra (CF): \"+str(df_parquet['CF_Z_OUTLIERS'].count()))\n",
    "print(\"Porcentaje de Outliers por Z-score Cuenta: \"+str(100* df_parquet['CF_Z_OUTLIERS'].sum()/df_parquet['CF_Z_OUTLIERS'].count()))\n",
    "print(\"Porcentaje de Outliers por Z-score Suma (CF): \"+str(100* df_parquet.loc[df_parquet['CF_Z_OUTLIERS'] == 1]['CF'].sum()/df_parquet['CF'].sum()))\n",
    "print(\"Upper Limit (CF): \"+ str(upper_limit))"
   ]
  },
  {
   "cell_type": "code",
   "execution_count": 17,
   "metadata": {
    "colab": {
     "base_uri": "https://localhost:8080/"
    },
    "executionInfo": {
     "elapsed": 409,
     "status": "ok",
     "timestamp": 1678440419301,
     "user": {
      "displayName": "Roberto Bonilla I.",
      "userId": "14956053022957445899"
     },
     "user_tz": -60
    },
    "id": "DorRVsfTpwuK",
    "outputId": "cc13f8c6-6383-4326-8c0f-2af38844df5e"
   },
   "outputs": [
    {
     "name": "stdout",
     "output_type": "stream",
     "text": [
      "Última compra outliers IQR (CF): 586036\n",
      "Porcentaje de Outliers por IQR Cuenta: 6.575339391773589\n",
      "IQR Limit2.5\n"
     ]
    }
   ],
   "source": [
    "# IQR Outlier Detection (parece muy bajo)\n",
    "percentile25 = df_parquet['LAST_CF'].quantile(0.25)\n",
    "percentile75 = df_parquet['LAST_CF'].quantile(0.75)\n",
    "if percentile75 == percentile25:\n",
    "  IQR = percentile75\n",
    "else:\n",
    "  IQR = percentile75 - percentile25\n",
    "IQR_outliers = percentile75 + (1.5 * IQR)\n",
    "IQR_outliers \n",
    "df_parquet['LAST_CF_IQR'] = np.where(df_parquet['LAST_CF']>IQR_outliers,1,0)\n",
    "print(\"Última compra outliers IQR (CF): \"+str(df_parquet['LAST_CF_IQR'].sum()))\n",
    "print(\"Porcentaje de Outliers por IQR Cuenta: \"+str(100* df_parquet['LAST_CF_IQR'].sum()/df_parquet['LAST_CF_IQR'].count()))\n",
    "print(\"IQR Limit\" + str(IQR_outliers))"
   ]
  },
  {
   "cell_type": "code",
   "execution_count": 21,
   "metadata": {
    "colab": {
     "base_uri": "https://localhost:8080/"
    },
    "executionInfo": {
     "elapsed": 553,
     "status": "ok",
     "timestamp": 1678440464203,
     "user": {
      "displayName": "Roberto Bonilla I.",
      "userId": "14956053022957445899"
     },
     "user_tz": -60
    },
    "id": "gDbi5Tbsz90J",
    "outputId": "67b70207-fbb0-4caa-cfaf-ed05bcc9c2d6"
   },
   "outputs": [
    {
     "data": {
      "text/plain": [
       "311"
      ]
     },
     "execution_count": 21,
     "metadata": {},
     "output_type": "execute_result"
    }
   ],
   "source": [
    "del(df)\n",
    "gc.collect()"
   ]
  }
 ],
 "metadata": {
  "colab": {
   "authorship_tag": "ABX9TyP1qlL+rpM+mtD3NLxG0UB4",
   "provenance": []
  },
  "gpuClass": "standard",
  "kernelspec": {
   "display_name": "Python 3 (ipykernel)",
   "language": "python",
   "name": "python3"
  },
  "language_info": {
   "codemirror_mode": {
    "name": "ipython",
    "version": 3
   },
   "file_extension": ".py",
   "mimetype": "text/x-python",
   "name": "python",
   "nbconvert_exporter": "python",
   "pygments_lexer": "ipython3",
   "version": "3.9.13"
  }
 },
 "nbformat": 4,
 "nbformat_minor": 1
}
