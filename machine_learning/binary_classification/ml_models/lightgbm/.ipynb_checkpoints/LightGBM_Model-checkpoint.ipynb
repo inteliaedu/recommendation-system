{
 "cells": [
  {
   "cell_type": "markdown",
   "metadata": {
    "id": "pdlNBmHQdGls"
   },
   "source": [
    "# Construcción Modelo Light GBM\n",
    "\n",
    "## Importar librerías"
   ]
  },
  {
   "cell_type": "code",
   "execution_count": null,
   "metadata": {
    "executionInfo": {
     "elapsed": 2248,
     "status": "ok",
     "timestamp": 1680186685468,
     "user": {
      "displayName": "Roberto Bonilla I.",
      "userId": "14956053022957445899"
     },
     "user_tz": -120
    },
    "id": "3S_gHjxvhex6"
   },
   "outputs": [],
   "source": [
    "import pandas as pd\n",
    "import pyarrow\n",
    "import numpy as np\n",
    "import lightgbm as lgb\n",
    "import pickle\n",
    "from sklearn.metrics import f1_score, accuracy_score, confusion_matrix, precision_score, recall_score\n",
    "from sklearn.metrics import roc_auc_score\n",
    "import matplotlib.pyplot as plt\n",
    "from sklearn import metrics"
   ]
  },
  {
   "cell_type": "markdown",
   "metadata": {
    "executionInfo": {
     "elapsed": 10,
     "status": "ok",
     "timestamp": 1680186685469,
     "user": {
      "displayName": "Roberto Bonilla I.",
      "userId": "14956053022957445899"
     },
     "user_tz": -120
    },
    "id": "uPGDyrCq4Q1G"
   },
   "source": [
    "# Lectura de Datos"
   ]
  },
  {
   "cell_type": "code",
   "execution_count": null,
   "metadata": {
    "executionInfo": {
     "elapsed": 2668,
     "status": "ok",
     "timestamp": 1680186856574,
     "user": {
      "displayName": "Roberto Bonilla I.",
      "userId": "14956053022957445899"
     },
     "user_tz": -120
    },
    "id": "3fVR6IqZaAGQ"
   },
   "outputs": [],
   "source": [
    "df_train = pd.read_parquet(engine=\"pyarrow\", path=\"data/data_modelo_train_cleaned.parquet\")"
   ]
  },
  {
   "cell_type": "code",
   "execution_count": null,
   "metadata": {
    "executionInfo": {
     "elapsed": 382,
     "status": "ok",
     "timestamp": 1680186856954,
     "user": {
      "displayName": "Roberto Bonilla I.",
      "userId": "14956053022957445899"
     },
     "user_tz": -120
    },
    "id": "nkM370xDn3QU"
   },
   "outputs": [],
   "source": [
    "df_test = pd.read_parquet(engine=\"pyarrow\", path=\"data/data_modelo_test_cleaned.parquet\")"
   ]
  },
  {
   "cell_type": "code",
   "execution_count": null,
   "metadata": {
    "executionInfo": {
     "elapsed": 1208,
     "status": "ok",
     "timestamp": 1680186858156,
     "user": {
      "displayName": "Roberto Bonilla I.",
      "userId": "14956053022957445899"
     },
     "user_tz": -120
    },
    "id": "QPhApYK5ks7f"
   },
   "outputs": [],
   "source": [
    "df_train = df_train[df_train['SEMANA'].isin([17,16,15,14])]"
   ]
  },
  {
   "cell_type": "markdown",
   "metadata": {},
   "source": [
    "# Transformación de datos"
   ]
  },
  {
   "cell_type": "code",
   "execution_count": null,
   "metadata": {
    "executionInfo": {
     "elapsed": 15,
     "status": "ok",
     "timestamp": 1680186858158,
     "user": {
      "displayName": "Roberto Bonilla I.",
      "userId": "14956053022957445899"
     },
     "user_tz": -120
    },
    "id": "nE4dP5qIP5A2"
   },
   "outputs": [],
   "source": [
    "# Eliminamos columnas que no agregan valor al modelo\n",
    "df_train.drop(columns=['CLIENTE_ID','PRODUCTO_ID','ANIO','SEMANA'], inplace=True)\n",
    "df_test.drop(columns=['CLIENTE_ID','PRODUCTO_ID','ANIO','SEMANA'], inplace=True)"
   ]
  },
  {
   "cell_type": "code",
   "execution_count": null,
   "metadata": {
    "executionInfo": {
     "elapsed": 15,
     "status": "ok",
     "timestamp": 1680186858159,
     "user": {
      "displayName": "Roberto Bonilla I.",
      "userId": "14956053022957445899"
     },
     "user_tz": -120
    },
    "id": "LYVG9dbi5E4_"
   },
   "outputs": [],
   "source": [
    "# Seleccionamos las columnas por RFECV\n",
    "important_columns_lgb =['FRECUENCIA', 'RECENCY', 'DURATION_CLIENT', 'TAMANIO',\n",
    "       'UNIDAD_EMPAQUE', 'CANAL_COMERCIO DE ABARROTES', 'CANAL_OTROS',\n",
    "       'SUBCANAL_HOGAR CON VENTA', 'SUBCANAL_MINI SUPER INDEPENDIENTE',\n",
    "       'SUBCANAL_MISCELÁNEA', 'SUBCANAL_OTHER', 'SUBCANAL_VINATERÍA',\n",
    "       'MARCA_CIEL', 'MARCA_COCA-COLA', 'MARCA_DEL VALLE', 'MARCA_FANTA',\n",
    "       'MARCA_FRESCA', 'MARCA_FUZE', 'MARCA_MEZCLADA/MULTIPRODUC',\n",
    "       'MARCA_MONSTER - PREDATOR', 'MARCA_MUNDET', 'MARCA_SANTA CLARA',\n",
    "       'MARCA_SPRITE', 'MARCA_YOLI - SENZAO-AMEYAL', 'SABOR_COLA',\n",
    "       'SABOR_FRUTAS', 'SABOR_MANGO', 'SABOR_MANZANA', 'SABOR_MORAS',\n",
    "       'SABOR_NATURAL', 'SABOR_OTROS', 'EMPAQUE_PET', 'EMPAQUE_REF PET',\n",
    "       'EMPAQUE_VIDRIO', 'TIPO_CONSUMO_PERSONALES (SS)', 'CLUSTER_1',\n",
    "       'CLUSTER_2', 'ROTATION_MEAN_CF', 'ROTATION_MEAN_DAYS',\n",
    "       'ROTATION_MEDIAN_DAYS', 'CF_LOG']"
   ]
  },
  {
   "cell_type": "code",
   "execution_count": null,
   "metadata": {
    "executionInfo": {
     "elapsed": 821,
     "status": "ok",
     "timestamp": 1680186858966,
     "user": {
      "displayName": "Roberto Bonilla I.",
      "userId": "14956053022957445899"
     },
     "user_tz": -120
    },
    "id": "DYlhEPBJQMDh"
   },
   "outputs": [],
   "source": [
    "# Preparamos el set de variables independientes y variable objetivo\n",
    "X_train= df_train.drop(columns=['PURCHASE'], axis=1)\n",
    "X_train = X_train[important_columns_lgb]\n",
    "y_train = df_train['PURCHASE']\n",
    "\n",
    "X_test= df_test.drop(columns=['PURCHASE'], axis=1)\n",
    "X_test = X_test[important_columns_lgb]\n",
    "y_test = df_test['PURCHASE']"
   ]
  },
  {
   "cell_type": "markdown",
   "metadata": {},
   "source": [
    "## Entrenamiento del modelo"
   ]
  },
  {
   "cell_type": "code",
   "execution_count": null,
   "metadata": {
    "colab": {
     "base_uri": "https://localhost:8080/",
     "height": 380
    },
    "executionInfo": {
     "elapsed": 284442,
     "status": "error",
     "timestamp": 1680187235642,
     "user": {
      "displayName": "Roberto Bonilla I.",
      "userId": "14956053022957445899"
     },
     "user_tz": -120
    },
    "id": "hkFFSN5YyRG4",
    "outputId": "f0afffe0-b201-457b-a5d5-e652ae6b5f94"
   },
   "outputs": [],
   "source": [
    "np.random.seed(1234)\n",
    "params = {\n",
    "        'boosting_type': 'goss',\n",
    "        'objective': 'binary',\n",
    "        'metric': 'binary_logloss',\n",
    "        'verbosity': -1,'max_bin': 394, 'max_depth': 11,\n",
    "        'learning_rate': 0.01364872413582553, 'subsample': 0.5, 'colsample_bytree': 1.0, 'min_child_samples': 118, 'reg_alpha': 1.6115057027697895e-08, 'reg_lambda': 0.0001452320544019507, 'num_leaves': 108, 'n_estimators': 874, 'scale_pos_weight': 2\n",
    " }\n",
    "clf_lgb = lgb.LGBMClassifier(**params)\n",
    "clf_lgb.fit(X_train, y_train)\n",
    "y_pred = clf_lgb.predict_proba(X_test)[:,1]\n",
    "auc_score =  roc_auc_score(y_test, y_pred)\n",
    "\n",
    "print('ROC AUC score:', auc_score)\n"
   ]
  },
  {
   "cell_type": "markdown",
   "metadata": {
    "executionInfo": {
     "elapsed": 20,
     "status": "ok",
     "timestamp": 1680186858973,
     "user": {
      "displayName": "Roberto Bonilla I.",
      "userId": "14956053022957445899"
     },
     "user_tz": -120
    },
    "id": "9FJjOxFiQ0K5"
   },
   "source": [
    "## Evaluación del modelo"
   ]
  },
  {
   "cell_type": "code",
   "execution_count": null,
   "metadata": {
    "executionInfo": {
     "elapsed": 15,
     "status": "aborted",
     "timestamp": 1680187235645,
     "user": {
      "displayName": "Roberto Bonilla I.",
      "userId": "14956053022957445899"
     },
     "user_tz": -120
    },
    "id": "gcHUw4u0BNAB"
   },
   "outputs": [],
   "source": [
    "y_pred_proba = clf_lgb.predict_proba(X_test)[::,1]\n",
    "fpr, tpr, _ = metrics.roc_curve(y_test,  y_pred_proba)\n",
    "auc = round(metrics.roc_auc_score(y_test, y_pred_proba),2)\n",
    "plt.style.use('bmh')\n",
    "\n",
    "#create ROC curve\n",
    "plt.figure(figsize=(10,6))\n",
    "plt.plot(fpr,tpr,label=\"AUC=\"+str(auc))\n",
    "plt.ylabel('True Positive Rate')\n",
    "plt.xlabel('False Positive Rate')\n",
    "plt.legend(loc=4)\n",
    "plt.show()"
   ]
  },
  {
   "cell_type": "markdown",
   "metadata": {},
   "source": [
    "## Guardado del modelo en formato pickle"
   ]
  },
  {
   "cell_type": "code",
   "execution_count": null,
   "metadata": {
    "id": "6n13bjZU7g1C"
   },
   "outputs": [],
   "source": [
    "filename = '/ml_models/lightgbm_model.sav'\n",
    "pickle.dump(clf_lgb, open(filename, 'wb'))\n",
    " "
   ]
  }
 ],
 "metadata": {
  "colab": {
   "authorship_tag": "ABX9TyOYAOLPbQq+LADgcY5QfIrc",
   "provenance": []
  },
  "gpuClass": "standard",
  "kernelspec": {
   "display_name": "Python 3 (ipykernel)",
   "language": "python",
   "name": "python3"
  },
  "language_info": {
   "codemirror_mode": {
    "name": "ipython",
    "version": 3
   },
   "file_extension": ".py",
   "mimetype": "text/x-python",
   "name": "python",
   "nbconvert_exporter": "python",
   "pygments_lexer": "ipython3",
   "version": "3.9.13"
  }
 },
 "nbformat": 4,
 "nbformat_minor": 1
}
