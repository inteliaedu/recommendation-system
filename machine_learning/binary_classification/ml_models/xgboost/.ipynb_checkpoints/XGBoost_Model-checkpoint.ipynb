{
 "cells": [
  {
   "cell_type": "markdown",
   "metadata": {
    "id": "pdlNBmHQdGls"
   },
   "source": [
    "# Construcción modelo XGBoost\n",
    "\n",
    "## Importar librerías"
   ]
  },
  {
   "cell_type": "code",
   "execution_count": null,
   "metadata": {
    "executionInfo": {
     "elapsed": 2248,
     "status": "ok",
     "timestamp": 1680186685468,
     "user": {
      "displayName": "Roberto Bonilla I.",
      "userId": "14956053022957445899"
     },
     "user_tz": -120
    },
    "id": "3S_gHjxvhex6"
   },
   "outputs": [],
   "source": [
    "import pandas as pd\n",
    "import pyarrow\n",
    "import numpy as np\n",
    "import xgboost as xgb\n",
    "import pickle\n",
    "from sklearn.metrics import f1_score, accuracy_score, confusion_matrix, precision_score, recall_score\n",
    "from sklearn.metrics import roc_auc_score\n",
    "import matplotlib.pyplot as plt\n",
    "from sklearn import metrics"
   ]
  },
  {
   "cell_type": "markdown",
   "metadata": {
    "executionInfo": {
     "elapsed": 10,
     "status": "ok",
     "timestamp": 1680186685469,
     "user": {
      "displayName": "Roberto Bonilla I.",
      "userId": "14956053022957445899"
     },
     "user_tz": -120
    },
    "id": "uPGDyrCq4Q1G"
   },
   "source": [
    "# Lectura de datos"
   ]
  },
  {
   "cell_type": "code",
   "execution_count": null,
   "metadata": {
    "executionInfo": {
     "elapsed": 2668,
     "status": "ok",
     "timestamp": 1680186856574,
     "user": {
      "displayName": "Roberto Bonilla I.",
      "userId": "14956053022957445899"
     },
     "user_tz": -120
    },
    "id": "3fVR6IqZaAGQ"
   },
   "outputs": [],
   "source": [
    "df_train = pd.read_parquet(engine=\"pyarrow\", path=\"data/data_modelo_train_cleaned.parquet\")"
   ]
  },
  {
   "cell_type": "code",
   "execution_count": null,
   "metadata": {
    "executionInfo": {
     "elapsed": 382,
     "status": "ok",
     "timestamp": 1680186856954,
     "user": {
      "displayName": "Roberto Bonilla I.",
      "userId": "14956053022957445899"
     },
     "user_tz": -120
    },
    "id": "nkM370xDn3QU"
   },
   "outputs": [],
   "source": [
    "df_test = pd.read_parquet(engine=\"pyarrow\", path=\"data/data_modelo_test_cleaned.parquet\")"
   ]
  },
  {
   "cell_type": "code",
   "execution_count": null,
   "metadata": {
    "executionInfo": {
     "elapsed": 1208,
     "status": "ok",
     "timestamp": 1680186858156,
     "user": {
      "displayName": "Roberto Bonilla I.",
      "userId": "14956053022957445899"
     },
     "user_tz": -120
    },
    "id": "QPhApYK5ks7f"
   },
   "outputs": [],
   "source": [
    "df_train = df_train[df_train['SEMANA'].isin([17,16,15,14])]"
   ]
  },
  {
   "cell_type": "markdown",
   "metadata": {},
   "source": [
    "# Transformación de datos"
   ]
  },
  {
   "cell_type": "code",
   "execution_count": null,
   "metadata": {
    "executionInfo": {
     "elapsed": 15,
     "status": "ok",
     "timestamp": 1680186858158,
     "user": {
      "displayName": "Roberto Bonilla I.",
      "userId": "14956053022957445899"
     },
     "user_tz": -120
    },
    "id": "nE4dP5qIP5A2"
   },
   "outputs": [],
   "source": [
    "# Eliminamos columnas que no agregan valor al modelo\n",
    "df_train.drop(columns=['CLIENTE_ID','PRODUCTO_ID','ANIO','SEMANA'], inplace=True)\n",
    "df_test.drop(columns=['CLIENTE_ID','PRODUCTO_ID','ANIO','SEMANA'], inplace=True)"
   ]
  },
  {
   "cell_type": "code",
   "execution_count": null,
   "metadata": {
    "executionInfo": {
     "elapsed": 15,
     "status": "ok",
     "timestamp": 1680186858159,
     "user": {
      "displayName": "Roberto Bonilla I.",
      "userId": "14956053022957445899"
     },
     "user_tz": -120
    },
    "id": "LYVG9dbi5E4_"
   },
   "outputs": [],
   "source": [
    "# Seleccionamos las columnas por RFECV\n",
    "important_columns_xgb = ['FRECUENCIA', 'RECENCY', 'DURATION_CLIENT', 'TAMANIO',\n",
    "       'UNIDAD_EMPAQUE', 'CANAL_RSR', 'SUBCANAL_OTHER',\n",
    "       'SUBCANAL_VINATERÍA', 'MARCA_CIEL', 'MARCA_COCA-COLA',\n",
    "       'MARCA_DEL VALLE', 'MARCA_FANTA', 'MARCA_FRESCA', 'MARCA_FUZE',\n",
    "       'MARCA_MONSTER - PREDATOR', 'MARCA_MUNDET', 'MARCA_SANTA CLARA',\n",
    "       'MARCA_SPRITE', 'MARCA_YOLI - SENZAO-AMEYAL', 'SABOR_COLA',\n",
    "       'SABOR_FRUTAS', 'SABOR_LIMA-LIMON', 'SABOR_MANGO', 'SABOR_MORAS',\n",
    "       'SABOR_NATURAL', 'SABOR_UVA', 'EMPAQUE_PET', 'EMPAQUE_REF PET',\n",
    "       'EMPAQUE_VIDRIO', 'TIPO_CONSUMO_PERSONALES (SS)', 'CLUSTER_1',\n",
    "       'CLUSTER_2', 'ROTATION_MEAN_CF', 'ROTATION_MEAN_DAYS', 'CF_LOG']"
   ]
  },
  {
   "cell_type": "code",
   "execution_count": null,
   "metadata": {
    "executionInfo": {
     "elapsed": 821,
     "status": "ok",
     "timestamp": 1680186858966,
     "user": {
      "displayName": "Roberto Bonilla I.",
      "userId": "14956053022957445899"
     },
     "user_tz": -120
    },
    "id": "DYlhEPBJQMDh"
   },
   "outputs": [],
   "source": [
    "# Preparamos el set de variables independientes y variable objetivo\n",
    "X_train= df_train.drop(columns=['PURCHASE'], axis=1)\n",
    "X_train = X_train[important_columns_xgb]\n",
    "y_train = df_train['PURCHASE']\n",
    "\n",
    "X_test= df_test.drop(columns=['PURCHASE'], axis=1)\n",
    "X_test = X_test[important_columns_xgb]\n",
    "y_test = df_test['PURCHASE']"
   ]
  },
  {
   "cell_type": "markdown",
   "metadata": {},
   "source": [
    "## Entrenamiento del modelo"
   ]
  },
  {
   "cell_type": "code",
   "execution_count": null,
   "metadata": {
    "colab": {
     "base_uri": "https://localhost:8080/",
     "height": 380
    },
    "executionInfo": {
     "elapsed": 284442,
     "status": "error",
     "timestamp": 1680187235642,
     "user": {
      "displayName": "Roberto Bonilla I.",
      "userId": "14956053022957445899"
     },
     "user_tz": -120
    },
    "id": "hkFFSN5YyRG4",
    "outputId": "f0afffe0-b201-457b-a5d5-e652ae6b5f94"
   },
   "outputs": [],
   "source": [
    "np.random.seed(1234)\n",
    "params = {\n",
    "        'objective': 'binary:logistic',\n",
    "        'booster': 'gbtree',\n",
    "        'n_jobs': -1,\n",
    "        'verbosity': 0,\n",
    "        'tree_method': 'hist',\n",
    "        'grow_policy': 'lossguide',\n",
    "        'max_bin': 320, 'max_depth': 8, 'learning_rate': 0.024179414158163107, 'subsample': 0.5, 'colsample_bytree': 0.5, 'min_child_weight': 1, \n",
    "        'reg_alpha': 9.728680734039675e-07, 'reg_lambda': 1.7595368049095486, 'gamma': 0.020556145669101262, 'n_estimators': 123, 'scale_pos_weight': 2\n",
    "}\n",
    "clf_xgb =  xgb.XGBClassifier(**params)\n",
    "clf_xgb.fit(X_train, y_train)\n",
    "y_pred = clf_xgb.predict_proba(X_test)[:,1]\n",
    "auc_score =  roc_auc_score(y_test, y_pred)\n",
    "\n",
    "print('ROC AUC score:', auc_score)\n"
   ]
  },
  {
   "cell_type": "markdown",
   "metadata": {
    "executionInfo": {
     "elapsed": 20,
     "status": "ok",
     "timestamp": 1680186858973,
     "user": {
      "displayName": "Roberto Bonilla I.",
      "userId": "14956053022957445899"
     },
     "user_tz": -120
    },
    "id": "9FJjOxFiQ0K5"
   },
   "source": [
    "## Evaluación del modelo"
   ]
  },
  {
   "cell_type": "code",
   "execution_count": null,
   "metadata": {
    "executionInfo": {
     "elapsed": 15,
     "status": "aborted",
     "timestamp": 1680187235645,
     "user": {
      "displayName": "Roberto Bonilla I.",
      "userId": "14956053022957445899"
     },
     "user_tz": -120
    },
    "id": "gcHUw4u0BNAB"
   },
   "outputs": [],
   "source": [
    "y_pred_proba = clf_xgb.predict_proba(X_test)[::,1]\n",
    "fpr, tpr, _ = metrics.roc_curve(y_test,  y_pred_proba)\n",
    "auc = round(metrics.roc_auc_score(y_test, y_pred_proba),2)\n",
    "plt.style.use('bmh')\n",
    "\n",
    "#create ROC curve\n",
    "plt.figure(figsize=(10,6))\n",
    "plt.plot(fpr,tpr,label=\"AUC=\"+str(auc))\n",
    "plt.ylabel('True Positive Rate')\n",
    "plt.xlabel('False Positive Rate')\n",
    "plt.legend(loc=4)\n",
    "plt.show()"
   ]
  },
  {
   "cell_type": "markdown",
   "metadata": {},
   "source": [
    "## Guardado del modelo en formato pickle"
   ]
  },
  {
   "cell_type": "code",
   "execution_count": null,
   "metadata": {
    "id": "6n13bjZU7g1C"
   },
   "outputs": [],
   "source": [
    "filename = '/ml_models/lightgbm_model.sav'\n",
    "pickle.dump(clf_rf, open(filename, 'wb'))\n",
    " "
   ]
  }
 ],
 "metadata": {
  "colab": {
   "authorship_tag": "ABX9TyOYAOLPbQq+LADgcY5QfIrc",
   "provenance": []
  },
  "gpuClass": "standard",
  "kernelspec": {
   "display_name": "Python 3 (ipykernel)",
   "language": "python",
   "name": "python3"
  },
  "language_info": {
   "codemirror_mode": {
    "name": "ipython",
    "version": 3
   },
   "file_extension": ".py",
   "mimetype": "text/x-python",
   "name": "python",
   "nbconvert_exporter": "python",
   "pygments_lexer": "ipython3",
   "version": "3.9.13"
  }
 },
 "nbformat": 4,
 "nbformat_minor": 1
}
